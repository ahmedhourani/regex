{
 "cells": [
  {
   "cell_type": "code",
   "execution_count": 1,
   "id": "7ee69001",
   "metadata": {},
   "outputs": [],
   "source": [
    "import re\n",
    "import numpy as np"
   ]
  },
  {
   "cell_type": "code",
   "execution_count": 2,
   "id": "a6d2d990",
   "metadata": {},
   "outputs": [],
   "source": [
    "text = \"This is a piece of text 123\""
   ]
  },
  {
   "cell_type": "code",
   "execution_count": 3,
   "id": "47591c64",
   "metadata": {},
   "outputs": [],
   "source": [
    "def regex(r):\n",
    "    p = re.compile(r)\n",
    "    result = p.search(text)\n",
    "\n",
    "    if result == None:\n",
    "        return 'no match'        \n",
    "    else:\n",
    "        start, end = result.span()\n",
    "        \n",
    "        below = ' ' * start\n",
    "        below += '^' * (end-start)\n",
    "        below += ' ' * (len(text) - end)\n",
    "        \n",
    "        print( \n",
    "            text + '\\n' + below#text[span[0]:span[1]]\n",
    "        )"
   ]
  },
  {
   "cell_type": "code",
   "execution_count": 4,
   "id": "8f2dcb8e",
   "metadata": {},
   "outputs": [
    {
     "name": "stdout",
     "output_type": "stream",
     "text": [
      "This is a piece of text 123\n",
      "        ^                  \n"
     ]
    }
   ],
   "source": [
    "regex(\"a\") # matches first occurrence of the letter a"
   ]
  },
  {
   "cell_type": "code",
   "execution_count": 5,
   "id": "bc05e62d",
   "metadata": {},
   "outputs": [
    {
     "name": "stdout",
     "output_type": "stream",
     "text": [
      "This is a piece of text 123\n",
      "                   ^       \n"
     ]
    }
   ],
   "source": [
    "regex(\"t\") # matches first occurrence of the letter t"
   ]
  },
  {
   "cell_type": "code",
   "execution_count": 6,
   "id": "df040207",
   "metadata": {},
   "outputs": [
    {
     "name": "stdout",
     "output_type": "stream",
     "text": [
      "This is a piece of text 123\n",
      "^                          \n"
     ]
    }
   ],
   "source": [
    "regex(\"T\") # matches first occurrence of the letter T"
   ]
  },
  {
   "cell_type": "code",
   "execution_count": 7,
   "id": "b7205fba",
   "metadata": {},
   "outputs": [
    {
     "name": "stdout",
     "output_type": "stream",
     "text": [
      "This is a piece of text 123\n",
      "  ^                        \n"
     ]
    }
   ],
   "source": [
    "regex(\"[is]\") # matches first occurrence of the letter i or s (not both)"
   ]
  },
  {
   "cell_type": "code",
   "execution_count": 8,
   "id": "54bbf9ca",
   "metadata": {},
   "outputs": [],
   "source": [
    "text = \"This is a piece of text 123\""
   ]
  },
  {
   "cell_type": "code",
   "execution_count": 9,
   "id": "6832f999",
   "metadata": {},
   "outputs": [
    {
     "name": "stdout",
     "output_type": "stream",
     "text": [
      "This is a piece of text 123\n",
      "^                          \n"
     ]
    }
   ],
   "source": [
    "regex(\"[A-Z]\") # matches first occurrence of an uppercase letter"
   ]
  },
  {
   "cell_type": "code",
   "execution_count": 10,
   "id": "70d24956",
   "metadata": {},
   "outputs": [
    {
     "name": "stdout",
     "output_type": "stream",
     "text": [
      "This is a piece of text 123\n",
      " ^                         \n"
     ]
    }
   ],
   "source": [
    "regex(\"[a-z]\") # matches first occurrence of a lowercase letter"
   ]
  },
  {
   "cell_type": "code",
   "execution_count": 11,
   "id": "7a9f0f74",
   "metadata": {},
   "outputs": [
    {
     "name": "stdout",
     "output_type": "stream",
     "text": [
      "This is a piece of text 123\n",
      "          ^^^^             \n"
     ]
    }
   ],
   "source": [
    "regex(\"[a-z]{4}\") # matches first occurrence of a 4 lowercase letters in row"
   ]
  },
  {
   "cell_type": "code",
   "execution_count": 12,
   "id": "6077e7c0",
   "metadata": {},
   "outputs": [
    {
     "name": "stdout",
     "output_type": "stream",
     "text": [
      "This is a piece of text 123\n",
      " ^^^                       \n"
     ]
    }
   ],
   "source": [
    "regex(\"[a-z]{1,4}\") # matches first occurrence of 1-4 letters in row"
   ]
  },
  {
   "cell_type": "code",
   "execution_count": 13,
   "id": "0440f9ae",
   "metadata": {},
   "outputs": [],
   "source": [
    "text = \"This is a piece of text. 123 duck\""
   ]
  },
  {
   "cell_type": "code",
   "execution_count": 14,
   "id": "ea4bd4c8",
   "metadata": {},
   "outputs": [
    {
     "name": "stdout",
     "output_type": "stream",
     "text": [
      "This is a piece of text. 123 duck\n",
      " ^^^^                            \n"
     ]
    }
   ],
   "source": [
    "regex(\"[a-z]{1,4}.\") # matches first occurrence of 1-4 letters in row then any single character"
   ]
  },
  {
   "cell_type": "code",
   "execution_count": 15,
   "id": "b3a2f3e4",
   "metadata": {},
   "outputs": [
    {
     "name": "stdout",
     "output_type": "stream",
     "text": [
      "This is a piece of text. 123 duck\n",
      " ^^^^^^                          \n"
     ]
    }
   ],
   "source": [
    "regex(\"[a-z]{1,4}.{3}\") # matches first occurrence of 1-4 letters in row then the next three characters"
   ]
  },
  {
   "cell_type": "code",
   "execution_count": 16,
   "id": "c1aad93a",
   "metadata": {},
   "outputs": [
    {
     "name": "stdout",
     "output_type": "stream",
     "text": [
      "This is a piece of text. 123 duck\n",
      "                   ^^^^^         \n"
     ]
    }
   ],
   "source": [
    "regex(\"[a-z]{1,4}\\.\") # matches first occurrence of 1-4 letters in row then a full stop"
   ]
  },
  {
   "cell_type": "code",
   "execution_count": 17,
   "id": "2753e7da",
   "metadata": {},
   "outputs": [
    {
     "name": "stdout",
     "output_type": "stream",
     "text": [
      "This is a piece of text. 123 duck\n",
      "    ^                            \n"
     ]
    }
   ],
   "source": [
    "regex(\" \") # matches first occurrence of a space"
   ]
  },
  {
   "cell_type": "code",
   "execution_count": 18,
   "id": "a79c1401",
   "metadata": {},
   "outputs": [
    {
     "name": "stdout",
     "output_type": "stream",
     "text": [
      "This is a piece of text. 123 duck\n",
      " ^                               \n"
     ]
    }
   ],
   "source": [
    "regex(\"[^T]\") # matches first occurrence of anything other than T"
   ]
  },
  {
   "cell_type": "code",
   "execution_count": 19,
   "id": "c678c960",
   "metadata": {},
   "outputs": [],
   "source": [
    "text = \"This is a piece of text. 123 duck.\""
   ]
  },
  {
   "cell_type": "code",
   "execution_count": 20,
   "id": "2e5b7f50",
   "metadata": {},
   "outputs": [
    {
     "name": "stdout",
     "output_type": "stream",
     "text": [
      "This is a piece of text. 123 duck.\n",
      "                            ^^^^^^\n"
     ]
    }
   ],
   "source": [
    "regex(\"(^| )d[^ ]ck($|[^a-z^A-Z^0-9]){1}\") # matches first occurrence of a word which starts with an d and ends with ck\n",
    "# and before the word either a space or sentence start. after the word either sentence end or non-alphanumeric"
   ]
  },
  {
   "cell_type": "code",
   "execution_count": 21,
   "id": "a65fad2e",
   "metadata": {},
   "outputs": [],
   "source": [
    "text = \"ip address: 121.1.3.255\""
   ]
  },
  {
   "cell_type": "code",
   "execution_count": 22,
   "id": "77c1bebe",
   "metadata": {},
   "outputs": [
    {
     "name": "stdout",
     "output_type": "stream",
     "text": [
      "ip address: 121.1.3.255\n",
      "            ^^^^^^^^^^^\n"
     ]
    }
   ],
   "source": [
    "regex(\"[0-9]{1,3}\\.[0-9]{1,3}\\.[0-9]{1,3}\\.[0-9]{1,3}\")"
   ]
  },
  {
   "cell_type": "code",
   "execution_count": 23,
   "id": "df84ea0c",
   "metadata": {},
   "outputs": [],
   "source": [
    "text = 'abbbb'"
   ]
  },
  {
   "cell_type": "code",
   "execution_count": 24,
   "id": "cfc21dc2",
   "metadata": {},
   "outputs": [
    {
     "name": "stdout",
     "output_type": "stream",
     "text": [
      "abbbb\n",
      "^^^^^\n"
     ]
    }
   ],
   "source": [
    "regex(\"ab*\") # matches a and any number of b's"
   ]
  },
  {
   "cell_type": "code",
   "execution_count": 25,
   "id": "159d10c6",
   "metadata": {},
   "outputs": [
    {
     "name": "stdout",
     "output_type": "stream",
     "text": [
      "abbbb\n",
      "^    \n"
     ]
    }
   ],
   "source": [
    "regex(\"ac*\") # matches a and any number of c's"
   ]
  },
  {
   "cell_type": "code",
   "execution_count": 26,
   "id": "8f61b393",
   "metadata": {},
   "outputs": [
    {
     "name": "stdout",
     "output_type": "stream",
     "text": [
      "abbbb\n",
      "^^^^^\n"
     ]
    }
   ],
   "source": [
    "regex(\"ab+\") # matches a and any non-zero number of b's"
   ]
  },
  {
   "cell_type": "code",
   "execution_count": 27,
   "id": "cafd40be",
   "metadata": {},
   "outputs": [
    {
     "data": {
      "text/plain": [
       "'no match'"
      ]
     },
     "execution_count": 27,
     "metadata": {},
     "output_type": "execute_result"
    }
   ],
   "source": [
    "regex(\"ac+\") # matches a and any non-zero number of c's"
   ]
  },
  {
   "cell_type": "code",
   "execution_count": 28,
   "id": "e9775a4f",
   "metadata": {},
   "outputs": [
    {
     "name": "stdout",
     "output_type": "stream",
     "text": [
      "abbbb\n",
      "^^   \n"
     ]
    }
   ],
   "source": [
    "regex(\"ab?\") # matches first occurrence of a and the leading b if it exists"
   ]
  },
  {
   "cell_type": "code",
   "execution_count": 29,
   "id": "9d26c467",
   "metadata": {},
   "outputs": [
    {
     "name": "stdout",
     "output_type": "stream",
     "text": [
      "abbbb\n",
      "^    \n"
     ]
    }
   ],
   "source": [
    "regex(\"ac?\") # matches first occurrence of a and the leading c if it exists"
   ]
  },
  {
   "cell_type": "code",
   "execution_count": 33,
   "id": "0fb3dcb1",
   "metadata": {},
   "outputs": [],
   "source": [
    "text = \"This is a piece of text. 123 duck.\""
   ]
  },
  {
   "cell_type": "code",
   "execution_count": 34,
   "id": "94860d95",
   "metadata": {},
   "outputs": [
    {
     "name": "stdout",
     "output_type": "stream",
     "text": [
      "This is a piece of text. 123 duck.\n",
      "    ^                             \n"
     ]
    }
   ],
   "source": [
    "regex(\"\\s\") # matches first occurrence of a whitespace"
   ]
  },
  {
   "cell_type": "code",
   "execution_count": 35,
   "id": "76b7b3bf",
   "metadata": {},
   "outputs": [
    {
     "name": "stdout",
     "output_type": "stream",
     "text": [
      "This is a piece of text. 123 duck.\n",
      "^                                 \n"
     ]
    }
   ],
   "source": [
    "regex(\"\\S\") # matches first occurrence of any character that isn't whitespace"
   ]
  },
  {
   "cell_type": "code",
   "execution_count": null,
   "id": "70d1aa72",
   "metadata": {},
   "outputs": [],
   "source": []
  }
 ],
 "metadata": {
  "kernelspec": {
   "display_name": "Python 3",
   "language": "python",
   "name": "python3"
  },
  "language_info": {
   "codemirror_mode": {
    "name": "ipython",
    "version": 3
   },
   "file_extension": ".py",
   "mimetype": "text/x-python",
   "name": "python",
   "nbconvert_exporter": "python",
   "pygments_lexer": "ipython3",
   "version": "3.9.6"
  }
 },
 "nbformat": 4,
 "nbformat_minor": 5
}
